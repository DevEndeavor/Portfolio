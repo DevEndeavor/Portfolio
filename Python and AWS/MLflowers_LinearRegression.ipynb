{
 "cells": [
  {
   "cell_type": "code",
   "execution_count": 301,
   "metadata": {},
   "outputs": [],
   "source": [
    "%matplotlib inline\n",
    "import numpy as np\n",
    "import matplotlib.pyplot as plt\n",
    "\n",
    "def sig(x, der=False):\n",
    "    s = 1/(1 + np.exp(-x))\n",
    "    if der == True:\n",
    "        return s * (1 - s)\n",
    "    return s"
   ]
  },
  {
   "cell_type": "code",
   "execution_count": 302,
   "metadata": {},
   "outputs": [
    {
     "data": {
      "text/plain": [
       "[<matplotlib.lines.Line2D at 0x21d53fdf828>]"
      ]
     },
     "execution_count": 302,
     "metadata": {},
     "output_type": "execute_result"
    },
    {
     "data": {
      "image/png": "[encoded data removed]",
      "text/plain": [
       "<matplotlib.figure.Figure at 0x21d53fdf7f0>"
      ]
     },
     "metadata": {},
     "output_type": "display_data"
    }
   ],
   "source": [
    "data = [[0,0],\n",
    "        [1,1],\n",
    "        [1,0],\n",
    "        [0,1]]\n",
    "\n",
    "out = [0,1,1,0]\n",
    "    \n",
    "v = np.linspace(-5, 5, 100)\n",
    "\n",
    "plt.plot(v, sig(v), c='b')\n",
    "plt.plot(v, sig(v,True), c='g')"
   ]
  },
  {
   "cell_type": "code",
   "execution_count": 299,
   "metadata": {},
   "outputs": [],
   "source": [
    "w1 = np.random.randn()\n",
    "w2 = np.random.randn()\n",
    "b = np.random.randn()\n",
    "\n",
    "learnRate = 0.1\n",
    "\n",
    "for i in range(10000):\n",
    "    \n",
    "    randint = np.random.randint(len(data))\n",
    "    \n",
    "    z = data[randint][0]*w1 + data[randint][1]*w2 + b\n",
    "    \n",
    "    pred = sig(z)\n",
    "    \n",
    "    target = out[randint]\n",
    "    \n",
    "    cost = (pred - target)**2\n",
    "    \n",
    "    dcost_dpred = 2*(pred - target)\n",
    "    dpred_dz = sig(z, True)\n",
    "    dz_dw1 = data[randint][0]\n",
    "    dz_dw2 = data[randint][1]\n",
    "    dz_db = 1\n",
    "    dcost_dw1 = dcost_dpred * dpred_dz * dz_dw1\n",
    "    dcost_dw2 = dcost_dpred * dpred_dz * dz_dw2\n",
    "    dcost_db = dcost_dpred * dpred_dz * dz_db\n",
    "    \n",
    "    w1 -= learnRate * dcost_dw1\n",
    "    w2 -= learnRate * dcost_dw2\n",
    "    b -= learnRate * dcost_db"
   ]
  },
  {
   "cell_type": "code",
   "execution_count": 303,
   "metadata": {},
   "outputs": [
    {
     "name": "stdout",
     "output_type": "stream",
     "text": [
      "0.0369660553673\n"
     ]
    }
   ],
   "source": [
    "test = [0,1]\n",
    "\n",
    "z = test[0]*w1 + test[1]*w2 + b\n",
    "\n",
    "pred = sig(z)\n",
    "\n",
    "print(pred)"
   ]
  }
 ],
 "metadata": {
  "kernelspec": {
   "display_name": "Python 3",
   "language": "python",
   "name": "python3"
  },
  "language_info": {
   "codemirror_mode": {
    "name": "ipython",
    "version": 3
   },
   "file_extension": ".py",
   "mimetype": "text/x-python",
   "name": "python",
   "nbconvert_exporter": "python",
   "pygments_lexer": "ipython3",
   "version": "3.6.0"
  }
 },
 "nbformat": 4,
 "nbformat_minor": 2
}
